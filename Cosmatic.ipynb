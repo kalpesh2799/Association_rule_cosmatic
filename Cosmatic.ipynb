{
 "cells": [
  {
   "cell_type": "code",
   "execution_count": 8,
   "metadata": {},
   "outputs": [
    {
     "data": {
      "image/png": "[encoded data removed]",
      "text/plain": [
       "<Figure size 432x288 with 1 Axes>"
      ]
     },
     "metadata": {
      "needs_background": "light"
     },
     "output_type": "display_data"
    },
    {
     "name": "stdout",
     "output_type": "stream",
     "text": [
      "     antecedents   consequents  support  confidence      lift\n",
      "6   (Eye shadow)     (Mascara)    0.321    0.842520  2.359999\n",
      "7      (Mascara)  (Eye shadow)    0.321    0.899160  2.359999\n",
      "4     (Eyeliner)   (Concealer)    0.297    0.649891  1.470341\n",
      "5    (Concealer)    (Eyeliner)    0.297    0.671946  1.470341\n",
      "0        (Blush)   (Concealer)    0.220    0.606061  1.371178\n",
      "11  (Foundation)   (Lip Gloss)    0.356    0.664179  1.355468\n",
      "10   (Lip Gloss)  (Foundation)    0.356    0.726531  1.355468\n",
      "1      (Mascara)   (Concealer)    0.204    0.571429  1.292825\n",
      "2   (Eye shadow)   (Concealer)    0.201    0.527559  1.193573\n",
      "9   (Eye shadow)   (Lip Gloss)    0.201    0.527559  1.076651\n",
      "8   (Eye shadow)  (Foundation)    0.211    0.553806  1.033220\n",
      "3    (Concealer)  (Foundation)    0.231    0.522624  0.975046\n",
      "12    (Eyeliner)  (Foundation)    0.238    0.520788  0.971619\n"
     ]
    }
   ],
   "source": [
    "import pandas as pd\n",
    "import matplotlib.pylab as plt\n",
    "from mlxtend.frequent_patterns import apriori\n",
    "from mlxtend.frequent_patterns import association_rules\n",
    "\n",
    "fp_df = pd.read_csv('Cosmetics.csv')\n",
    "fp_df.set_index('Trans. ',inplace=True)\n",
    "fp_df\n",
    "\n",
    "fp_df.head()\n",
    "\n",
    "# Support of 1-tem freq sets\n",
    "itemFrequency = fp_df.sum(axis=0) / len(fp_df)\n",
    "\n",
    "# and plot as histogram\n",
    "ax = itemFrequency.plot.bar(color='blue')\n",
    "plt.ylabel('Item frequency (relative)')\n",
    "plt.show()\n",
    "\n",
    "# create frequent itemsets\n",
    "itemsets = apriori(fp_df, min_support=0.2,\n",
    "                   use_colnames=True)\n",
    "\n",
    "# and convert into rules\n",
    "rules = association_rules(itemsets, metric='confidence', \n",
    "                          min_threshold=0.5)\n",
    "rules.sort_values(by=['lift'], ascending=False).head(6)\n",
    "\n",
    "rule_df = rules.sort_values(by=['lift'], ascending=False)\n",
    "\n",
    "print(rule_df[['antecedents','consequents','support','confidence','lift']])\n",
    "\n"
   ]
  },
  {
   "cell_type": "code",
   "execution_count": 7,
   "metadata": {},
   "outputs": [
    {
     "data": {
      "text/plain": [
       "Index(['Trans. ', 'Bag', 'Blush', 'Nail Polish', 'Brushes', 'Concealer',\n",
       "       'Eyebrow Pencils', 'Bronzer', 'Lip liner', 'Mascara', 'Eye shadow',\n",
       "       'Foundation', 'Lip Gloss', 'Lipstick', 'Eyeliner'],\n",
       "      dtype='object')"
      ]
     },
     "execution_count": 7,
     "metadata": {},
     "output_type": "execute_result"
    }
   ],
   "source": [
    "fp_df.columns"
   ]
  }
 ],
 "metadata": {
  "kernelspec": {
   "display_name": "Python 3",
   "language": "python",
   "name": "python3"
  },
  "language_info": {
   "codemirror_mode": {
    "name": "ipython",
    "version": 3
   },
   "file_extension": ".py",
   "mimetype": "text/x-python",
   "name": "python",
   "nbconvert_exporter": "python",
   "pygments_lexer": "ipython3",
   "version": "3.8.3"
  }
 },
 "nbformat": 4,
 "nbformat_minor": 4
}
